{
 "cells": [
  {
   "cell_type": "code",
   "execution_count": 2,
   "metadata": {
    "collapsed": true
   },
   "outputs": [],
   "source": [
    "import pandas as pd\n",
    "import ggplot as gp\n",
    "import matplotlib as mpl"
   ]
  },
  {
   "cell_type": "code",
   "execution_count": 3,
   "metadata": {
    "collapsed": false
   },
   "outputs": [
    {
     "name": "stdout",
     "output_type": "stream",
     "text": [
      "0      37.885000\n",
      "1      38.170000\n",
      "2      38.081667\n",
      "3      38.125000\n",
      "4      38.145000\n",
      "5      37.880000\n",
      "6      37.675000\n",
      "7      37.398333\n",
      "8      37.266667\n",
      "9      37.130000\n",
      "10     37.103333\n",
      "11     37.560000\n",
      "12     37.776667\n",
      "13     37.506250\n",
      "14     37.320000\n",
      "15     36.710000\n",
      "16     36.832917\n",
      "17     35.590000\n",
      "18     36.218567\n",
      "19     36.600000\n",
      "20     37.151650\n",
      "21     37.781667\n",
      "22     37.521667\n",
      "23     37.851667\n",
      "24     37.763333\n",
      "25     38.471667\n",
      "26     38.858350\n",
      "27     38.601833\n",
      "28     38.495000\n",
      "29     38.583333\n",
      "         ...    \n",
      "646    33.045000\n",
      "647    32.905000\n",
      "648    32.858333\n",
      "649    33.270017\n",
      "650    34.178333\n",
      "651    34.121667\n",
      "652    34.025000\n",
      "653    33.225000\n",
      "654    32.830000\n",
      "655    32.140000\n",
      "656    32.190000\n",
      "657    33.186667\n",
      "658    33.253333\n",
      "659    33.558333\n",
      "660    32.836667\n",
      "661    32.740000\n",
      "662    32.383333\n",
      "663    31.866667\n",
      "664    31.875000\n",
      "665    31.953333\n",
      "666    31.985000\n",
      "667    33.611667\n",
      "668    32.786667\n",
      "669    32.328333\n",
      "670    32.728333\n",
      "671    33.738333\n",
      "672    34.800000\n",
      "673    34.857500\n",
      "674    33.870017\n",
      "675    33.468333\n",
      "dtype: float64\n"
     ]
    }
   ],
   "source": [
    "# Price Data\n",
    "\n",
    "anikP = pd.read_csv('../raw_data/StockFundamentals/AnikaTherapeutics/ANIK_price_data.csv')\n",
    "armkP = pd.read_csv('../raw_data//StockFundamentals/AMARKPreciousMetals/AMRK_price_data.csv')\n",
    "ecP = pd.read_csv('../raw_data/StockFundamentals/EasternCompany/EML_price_data.csv')\n",
    "pbP = pd.read_csv('../raw_data/StockFundamentals/PrivateBancorp/PVTB_price_data.csv')\n",
    "rmxP = pd.read_csv('../raw_data/StockFundamentals/REMAX/RMAX_price_data.csv')\n",
    "stkP = pd.read_csv('../raw_data/StockFundamentals/ShutterStock/SSTK_price_data.csv')\n",
    "\n",
    "\n",
    "P = pd.concat([anikP['Period'],anikP['Close'], armkP['Close'], ecP['Close'], pbP['Close'], rmxP['Close'], stkP['Close']],axis=1, join='inner')\n",
    "#print(P)\n",
    "\n",
    "meanP = P.mean(axis=1)\n",
    "print(meanP)"
   ]
  },
  {
   "cell_type": "code",
   "execution_count": null,
   "metadata": {
    "collapsed": true
   },
   "outputs": [],
   "source": []
  },
  {
   "cell_type": "code",
   "execution_count": 4,
   "metadata": {
    "collapsed": false,
    "scrolled": true
   },
   "outputs": [
    {
     "name": "stdout",
     "output_type": "stream",
     "text": [
      "           0        1\n",
      "0   1.328567  36.0500\n",
      "1   1.421200  36.1900\n",
      "2   1.259767  35.9500\n",
      "3   1.094300  35.9720\n",
      "4   1.224767  35.8760\n",
      "5   1.129000  35.5440\n",
      "6   0.971400  35.2920\n",
      "7   1.154867  34.9580\n",
      "8   1.015967  34.7920\n",
      "9   1.138167  34.7060\n",
      "10  1.095833  34.7040\n",
      "11  0.855133  35.2300\n",
      "12  0.849767  35.4720\n",
      "13  1.211200  35.4895\n"
     ]
    },
    {
     "data": {
      "text/html": [
       "<div>\n",
       "<table border=\"1\" class=\"dataframe\">\n",
       "  <thead>\n",
       "    <tr style=\"text-align: right;\">\n",
       "      <th></th>\n",
       "      <th>0</th>\n",
       "      <th>1</th>\n",
       "    </tr>\n",
       "  </thead>\n",
       "  <tbody>\n",
       "    <tr>\n",
       "      <th>0</th>\n",
       "      <td>1.000000</td>\n",
       "      <td>0.529291</td>\n",
       "    </tr>\n",
       "    <tr>\n",
       "      <th>1</th>\n",
       "      <td>0.529291</td>\n",
       "      <td>1.000000</td>\n",
       "    </tr>\n",
       "  </tbody>\n",
       "</table>\n",
       "</div>"
      ],
      "text/plain": [
       "          0         1\n",
       "0  1.000000  0.529291\n",
       "1  0.529291  1.000000"
      ]
     },
     "execution_count": 4,
     "metadata": {},
     "output_type": "execute_result"
    }
   ],
   "source": [
    "#Debt to Equity Ratios (not including anikD due to incomplete data)\n",
    "\n",
    "anikDE = pd.read_csv('../raw_data/StockFundamentals/AnikaTherapeutics/ANIK_debt_equity_ratio_data.csv')\n",
    "armkDE = pd.read_csv('../raw_data/StockFundamentals/AMARKPreciousMetals/AMRK_debt_equity_ratio_data.csv')\n",
    "ecDE = pd.read_csv('../raw_data/StockFundamentals/EasternCompany/EML_debt_equity_ratio_data.csv')\n",
    "pbDE = pd.read_csv('../raw_data/StockFundamentals/PrivateBancorp/PVTB_debt_equity_ratio_data.csv')\n",
    "rmxDE = pd.read_csv('../raw_data/StockFundamentals/REMAX/RMAX_debt_equity_ratio_data.csv')\n",
    "\n",
    "\n",
    "DE = pd.concat([armkDE,ecDE['Debt to Equity Ratio (Quarterly)'],pbDE['Debt to Equity Ratio (Quarterly)'],rmxDE['Debt to Equity Ratio (Quarterly)']],axis=1, join='inner')\n",
    "\n",
    "#print(DE)\n",
    "\n",
    "#DE = DE('Debt to Equity Ratio (Quarterly)',dtype=float)\n",
    "g = DE.columns.to_series().groupby(DE.dtypes).groups\n",
    "#print(g)\n",
    "\n",
    "meanDE = DE.mean(axis=1)\n",
    "#print(meanDE)\n",
    "#print()\n",
    "\n",
    "PDE = pd.concat([anikP['Period'],anikP['Close'], armkP['Close'], ecP['Close'], pbP['Close'], rmxP['Close']],axis=1, join='inner')\n",
    "meanPDE = PDE.mean(axis=1)\n",
    "#print(meanPDE)\n",
    "\n",
    "DE_overall = pd.concat([meanDE,meanPDE],axis=1,join='inner')\n",
    "print(DE_overall)\n",
    "\n",
    "DE_overall.corr('pearson',min_periods=1)"
   ]
  },
  {
   "cell_type": "code",
   "execution_count": 14,
   "metadata": {
    "collapsed": false
   },
   "outputs": [
    {
     "data": {
      "text/html": [
       "<div>\n",
       "<table border=\"1\" class=\"dataframe\">\n",
       "  <thead>\n",
       "    <tr style=\"text-align: right;\">\n",
       "      <th></th>\n",
       "      <th>0</th>\n",
       "      <th>1</th>\n",
       "    </tr>\n",
       "  </thead>\n",
       "  <tbody>\n",
       "    <tr>\n",
       "      <th>0</th>\n",
       "      <td>1.000000</td>\n",
       "      <td>0.574913</td>\n",
       "    </tr>\n",
       "    <tr>\n",
       "      <th>1</th>\n",
       "      <td>0.574913</td>\n",
       "      <td>1.000000</td>\n",
       "    </tr>\n",
       "  </tbody>\n",
       "</table>\n",
       "</div>"
      ],
      "text/plain": [
       "          0         1\n",
       "0  1.000000  0.574913\n",
       "1  0.574913  1.000000"
      ]
     },
     "execution_count": 14,
     "metadata": {},
     "output_type": "execute_result"
    }
   ],
   "source": [
    "#Price to Earnings Ratio\n",
    "\n",
    "anikPE = pd.read_csv('../raw_data/StockFundamentals/AnikaTherapeutics/ANIK_pe_ratio_data.csv')\n",
    "armkPE = pd.read_csv('../raw_data/StockFundamentals/AMARKPreciousMetals/AMRK_pe_ratio_data.csv')\n",
    "ecPE = pd.read_csv('../raw_data/StockFundamentals/EasternCompany/EML_pe_ratio_data.csv')\n",
    "pbPE = pd.read_csv('../raw_data/StockFundamentals/PrivateBancorp/PVTB_pe_ratio_data.csv')\n",
    "rmxPE = pd.read_csv('../raw_data/StockFundamentals/REMAX/RMAX_pe_ratio_data.csv')\n",
    "stkPE = pd.read_csv('../raw_data/StockFundamentals/ShutterStock/SSTK_pe_ratio_data.csv')\n",
    "\n",
    "PE = pd.concat([anikPE, armkPE['PE Ratio (TTM)'], ecPE['PE Ratio (TTM)'], pbPE['PE Ratio (TTM)'], rmxPE['PE Ratio (TTM)'], stkPE['PE Ratio (TTM)']],axis=1, join='inner')\n",
    "#print(PE)\n",
    "\n",
    "meanPE = PE.mean(axis=1)\n",
    "#print(meanPE)\n",
    "\n",
    "PE_overall = pd.concat([meanPE, meanP],axis=1,join='inner')\n",
    "PE_overall.corr('pearson',min_periods=1)\n",
    "\n",
    "#PE_overall"
   ]
  },
  {
   "cell_type": "code",
   "execution_count": 11,
   "metadata": {
    "collapsed": false
   },
   "outputs": [
    {
     "data": {
      "text/html": [
       "<div>\n",
       "<table border=\"1\" class=\"dataframe\">\n",
       "  <thead>\n",
       "    <tr style=\"text-align: right;\">\n",
       "      <th></th>\n",
       "      <th>0</th>\n",
       "      <th>1</th>\n",
       "    </tr>\n",
       "  </thead>\n",
       "  <tbody>\n",
       "    <tr>\n",
       "      <th>0</th>\n",
       "      <td>1.000000</td>\n",
       "      <td>0.668486</td>\n",
       "    </tr>\n",
       "    <tr>\n",
       "      <th>1</th>\n",
       "      <td>0.668486</td>\n",
       "      <td>1.000000</td>\n",
       "    </tr>\n",
       "  </tbody>\n",
       "</table>\n",
       "</div>"
      ],
      "text/plain": [
       "          0         1\n",
       "0  1.000000  0.668486\n",
       "1  0.668486  1.000000"
      ]
     },
     "execution_count": 11,
     "metadata": {},
     "output_type": "execute_result"
    }
   ],
   "source": [
    "#Price to Earnings/Growth Ratio\n",
    "\n",
    "anikPEG = pd.read_csv('../raw_data/StockFundamentals/AnikaTherapeutics/ANIK_peg_ratio_data.csv')\n",
    "armkPEG = pd.read_csv('../raw_data/StockFundamentals/AMARKPreciousMetals/AMRK_peg_ratio_data.csv')\n",
    "pbPEG = pd.read_csv('../raw_data/StockFundamentals/PrivateBancorp/PVTB_peg_ratio_data.csv')\n",
    "rmxPEG = pd.read_csv('../raw_data/StockFundamentals/REMAX/RMAX_peg_ratio_data.csv')\n",
    "stkPEG = pd.read_csv('../raw_data/StockFundamentals/ShutterStock/SSTK_peg_ratio_data.csv')\n",
    "\n",
    "PEG = pd.concat([anikPEG, armkPEG['PEG Ratio (TTM)'], pbPEG['PEG Ratio (TTM)'], rmxPEG['PEG Ratio (TTM)'], stkPEG['PEG Ratio (TTM)']],axis=1, join='inner')\n",
    "#print(PEG)\n",
    "\n",
    "meanPEG = PEG.mean(axis=1)\n",
    "#print(meanPEG)\n",
    "\n",
    "PPEG = P = pd.concat([anikP['Period'],anikP['Close'], armkP['Close'], pbP['Close'], rmxP['Close'], stkP['Close']],axis=1, join='inner') \n",
    "meanPPEG = PPEG.mean(axis=1)\n",
    "\n",
    "PEG_overall = pd.concat([meanPEG,meanPPEG],axis=1,join='inner')\n",
    "#print(PEG_overall)\n",
    "PEG_overall.corr('pearson',min_periods=1)"
   ]
  },
  {
   "cell_type": "code",
   "execution_count": 12,
   "metadata": {
    "collapsed": false
   },
   "outputs": [
    {
     "data": {
      "text/html": [
       "<div>\n",
       "<table border=\"1\" class=\"dataframe\">\n",
       "  <thead>\n",
       "    <tr style=\"text-align: right;\">\n",
       "      <th></th>\n",
       "      <th>0</th>\n",
       "      <th>1</th>\n",
       "    </tr>\n",
       "  </thead>\n",
       "  <tbody>\n",
       "    <tr>\n",
       "      <th>0</th>\n",
       "      <td>1.000000</td>\n",
       "      <td>0.212229</td>\n",
       "    </tr>\n",
       "    <tr>\n",
       "      <th>1</th>\n",
       "      <td>0.212229</td>\n",
       "      <td>1.000000</td>\n",
       "    </tr>\n",
       "  </tbody>\n",
       "</table>\n",
       "</div>"
      ],
      "text/plain": [
       "          0         1\n",
       "0  1.000000  0.212229\n",
       "1  0.212229  1.000000"
      ]
     },
     "execution_count": 12,
     "metadata": {},
     "output_type": "execute_result"
    }
   ],
   "source": [
    "#Free Cash Flow\n",
    "\n",
    "anikFCF = pd.read_csv('../raw_data/StockFundamentals/AnikaTherapeutics/ANIK_free_cash_flow_data.csv')\n",
    "armkFCF = pd.read_csv('../raw_data/StockFundamentals/AMARKPreciousMetals/AMRK_free_cash_flow_data.csv')\n",
    "ecFCF = pd.read_csv('../raw_data/StockFundamentals/EasternCompany/EML_free_cash_flow_data.csv')\n",
    "pbFCF = pd.read_csv('../raw_data/StockFundamentals/PrivateBancorp/PVTB_free_cash_flow_data.csv')\n",
    "rmxFCF = pd.read_csv('../raw_data/StockFundamentals/REMAX/RMAX_free_cash_flow_data.csv')\n",
    "stkFCF = pd.read_csv('../raw_data/StockFundamentals/ShutterStock/SSTK_free_cash_flow_data.csv')\n",
    "\n",
    "FCF = pd.concat([anikFCF, armkFCF['Free Cash Flow (Quarterly)'], ecFCF['Free Cash Flow (Quarterly)'], pbFCF['Free Cash Flow (Quarterly)'], rmxFCF['Free Cash Flow (Quarterly)'], stkFCF['Free Cash Flow (Quarterly)']],axis=1, join='inner')\n",
    "#print(FCF)\n",
    "\n",
    "meanFCF = FCF.mean(axis=1)\n",
    "#meanFCF = meanFCF[meanFCF >= 0]\n",
    "\n",
    "#print(meanFCF)\n",
    "\n",
    "FCF_overall = pd.concat([meanFCF,meanP],axis=1,join='inner')\n",
    "#print(FCF_overall)\n",
    "\n",
    "FCF_overall.corr('pearson',min_periods=1)"
   ]
  },
  {
   "cell_type": "code",
   "execution_count": 13,
   "metadata": {
    "collapsed": false
   },
   "outputs": [
    {
     "data": {
      "text/html": [
       "<div>\n",
       "<table border=\"1\" class=\"dataframe\">\n",
       "  <thead>\n",
       "    <tr style=\"text-align: right;\">\n",
       "      <th></th>\n",
       "      <th>0</th>\n",
       "      <th>1</th>\n",
       "    </tr>\n",
       "  </thead>\n",
       "  <tbody>\n",
       "    <tr>\n",
       "      <th>0</th>\n",
       "      <td>1.000000</td>\n",
       "      <td>0.519523</td>\n",
       "    </tr>\n",
       "    <tr>\n",
       "      <th>1</th>\n",
       "      <td>0.519523</td>\n",
       "      <td>1.000000</td>\n",
       "    </tr>\n",
       "  </tbody>\n",
       "</table>\n",
       "</div>"
      ],
      "text/plain": [
       "          0         1\n",
       "0  1.000000  0.519523\n",
       "1  0.519523  1.000000"
      ]
     },
     "execution_count": 13,
     "metadata": {},
     "output_type": "execute_result"
    }
   ],
   "source": [
    "#Price to Book Value Ratio\n",
    "\n",
    "anikPBV = pd.read_csv('../raw_data/StockFundamentals/AnikaTherapeutics/ANIK_price_to_book_value_data.csv')\n",
    "armkPBV = pd.read_csv('../raw_data/StockFundamentals/AMARKPreciousMetals/AMRK_price_to_book_value_data.csv')\n",
    "ecPBV = pd.read_csv('../raw_data/StockFundamentals/EasternCompany/EML_price_to_book_value_data.csv')\n",
    "pbPBV = pd.read_csv('../raw_data/StockFundamentals/PrivateBancorp/PVTB_price_to_book_value_data.csv')\n",
    "rmxPBV = pd.read_csv('../raw_data/StockFundamentals/REMAX/RMAX_price_to_book_value_data.csv')\n",
    "stkPBV = pd.read_csv('../raw_data/StockFundamentals/ShutterStock/SSTK_price_to_book_value_data.csv')\n",
    "\n",
    "PBV = pd.concat([anikPBV, armkPBV['Price to Book Value'], ecPBV['Price to Book Value'], pbPBV['Price to Book Value'], rmxPBV['Price to Book Value'], stkPBV['Price to Book Value']],axis=1, join='inner')\n",
    "#print(PBV)\n",
    "\n",
    "meanPBV = PBV.mean(axis=1)\n",
    "#print(meanFCF)\n",
    "\n",
    "PBV_overall = pd.concat([meanPBV,meanP],axis=1,join='inner')\n",
    "PBV_overall.corr('pearson',min_periods=1)"
   ]
  },
  {
   "cell_type": "code",
   "execution_count": null,
   "metadata": {
    "collapsed": true
   },
   "outputs": [],
   "source": []
  }
 ],
 "metadata": {
  "anaconda-cloud": {},
  "kernelspec": {
   "display_name": "Python [Root]",
   "language": "python",
   "name": "Python [Root]"
  },
  "language_info": {
   "codemirror_mode": {
    "name": "ipython",
    "version": 3
   },
   "file_extension": ".py",
   "mimetype": "text/x-python",
   "name": "python",
   "nbconvert_exporter": "python",
   "pygments_lexer": "ipython3",
   "version": "3.5.2"
  }
 },
 "nbformat": 4,
 "nbformat_minor": 0
}
