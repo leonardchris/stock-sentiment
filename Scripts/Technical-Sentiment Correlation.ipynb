{
 "cells": [
  {
   "cell_type": "code",
   "execution_count": 4,
   "metadata": {
    "collapsed": true
   },
   "outputs": [],
   "source": [
    "import pandas as pd\n",
    "import seaborn as sns\n",
    "import datetime\n",
    "\n",
    "from sklearn.preprocessing import scale\n",
    "\n",
    "import matplotlib.pyplot as plt\n",
    "%matplotlib inline\n",
    "plt.rcParams['figure.figsize'] = (10, 6)\n",
    "plt.style.use('ggplot')\n",
    "from matplotlib.colors import ListedColormap\n",
    "cmap = ListedColormap([\"#e41a1c\",\"#984ea3\",\"#a65628\",\"#377eb8\",\"#ffff33\",\"#4daf4a\",\"#ff7f00\"])"
   ]
  },
  {
   "cell_type": "code",
   "execution_count": 13,
   "metadata": {
    "collapsed": false
   },
   "outputs": [
    {
     "name": "stdout",
     "output_type": "stream",
     "text": [
      "XLB                           Price         7  MACD (12,26,9) - MACD\n",
      "Price                  1.000000  0.525179               0.564182\n",
      "7                      0.525179  1.000000               0.440059\n",
      "MACD (12,26,9) - MACD  0.564182  0.440059               1.000000\n",
      "XLE                           Price         7  MACD (12,26,9) - MACD\n",
      "Price                  1.000000  0.457235               0.597154\n",
      "7                      0.457235  1.000000               0.235789\n",
      "MACD (12,26,9) - MACD  0.597154  0.235789               1.000000\n",
      "XLF                           Price         7  MACD (12,26,9) - MACD\n",
      "Price                  1.000000  0.371147               0.439315\n",
      "7                      0.371147  1.000000               0.614215\n",
      "MACD (12,26,9) - MACD  0.439315  0.614215               1.000000\n",
      "XLI                           Price         7  MACD (12,26,9) - MACD\n",
      "Price                  1.000000  0.585505               0.516883\n",
      "7                      0.585505  1.000000               0.371782\n",
      "MACD (12,26,9) - MACD  0.516883  0.371782               1.000000\n",
      "XLP                           Price         7  MACD (12,26,9) - MACD\n",
      "Price                  1.000000  0.096911               0.200053\n",
      "7                      0.096911  1.000000               0.534971\n",
      "MACD (12,26,9) - MACD  0.200053  0.534971               1.000000\n",
      "XLV                           Price         7  MACD (12,26,9) - MACD\n",
      "Price                  1.000000  0.408704               0.663143\n",
      "7                      0.408704  1.000000               0.613733\n",
      "MACD (12,26,9) - MACD  0.663143  0.613733               1.000000\n"
     ]
    },
    {
     "data": {
      "text/plain": [
       "<matplotlib.figure.Figure at 0x104969be0>"
      ]
     },
     "metadata": {},
     "output_type": "display_data"
    }
   ],
   "source": [
    "#iterates over list of stocks, scales the integrated data, then saves a figure\n",
    "XLs=['XLB','XLE','XLF','XLI','XLP','XLV']\n",
    "for i in XLs:\n",
    "    XLL=pd.read_csv('org_data/' + i + '_technicals.csv')\n",
    "    XLL.index=pd.to_datetime(XLL['date'])\n",
    "    del XLL['date']\n",
    "    XLL['7']=XLL['bull_minus_bear'].rolling('14d').mean()\n",
    "    XL=XLL[XLL['Williams %R [14]'] < 0]\n",
    "    X=pd.DataFrame(scale(XL))\n",
    "    X.columns=XL.columns\n",
    "    X.index=XL.index\n",
    "    print(i, X[['Price','7','MACD (12,26,9) - MACD']].corr())\n",
    "    \n",
    "    plt.plot(X.index,X['Price'],label='Price')\n",
    "    plt.plot(X.index,X['7'],label='Sentiment')\n",
    "    plt.plot(X.index,X['MACD (12,26,9) - MACD'],label='MACD')\n",
    "    plt.legend()\n",
    "    plt.title('Scaled Price, 7-Day Sentiment Average, and MACD: ' + i)\n",
    "    plt.show\n",
    "    plt.savefig(i + '_corr.pdf')\n",
    "    plt.clf()"
   ]
  }
 ],
 "metadata": {
  "anaconda-cloud": {},
  "kernelspec": {
   "display_name": "Python [Root]",
   "language": "python",
   "name": "Python [Root]"
  },
  "language_info": {
   "codemirror_mode": {
    "name": "ipython",
    "version": 3
   },
   "file_extension": ".py",
   "mimetype": "text/x-python",
   "name": "python",
   "nbconvert_exporter": "python",
   "pygments_lexer": "ipython3",
   "version": "3.5.2"
  }
 },
 "nbformat": 4,
 "nbformat_minor": 0
}
