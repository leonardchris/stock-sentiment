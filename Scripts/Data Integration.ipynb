{
 "cells": [
  {
   "cell_type": "markdown",
   "metadata": {},
   "source": [
    "**Sentiment Integration:** <br>This is the module to shape the sentiment data for addition to the primary dataframe. The output of this script is three new csv files: one where the data is shaped to the financials collected (XXX_financials.csv), one is indexed based on the timepoints that contain sentiment data (XXX_sentiment.csv), as we only have collected sentiment data once per day, and only a year's worth. The last is the sentiment table joined to technical data, indexed based on the smaller technical dataset."
   ]
  },
  {
   "cell_type": "code",
   "execution_count": 1,
   "metadata": {
    "collapsed": true
   },
   "outputs": [],
   "source": [
    "import pandas as pd\n",
    "import datetime"
   ]
  },
  {
   "cell_type": "code",
   "execution_count": 37,
   "metadata": {
    "collapsed": false
   },
   "outputs": [],
   "source": [
    "#loads pre-collected CSVs,cleans. Sent is the sentiment data, data is financials.\n",
    "sent=pd.read_csv('raw_data/XLV.csv')\n",
    "sent.index=pd.to_datetime(sent['asof_date'].astype(str) + ' 09:30')\n",
    "sent.index.name=None\n",
    "sent_clean=sent[['total_scanned_messages','bull_bear_msg_ratio','bull_minus_bear']]\n",
    "data=pd.read_csv('raw_data/20161114_XLV.csv')\n",
    "data.index=pd.to_datetime(data['Unnamed: 0'])\n",
    "data.index.name=None\n",
    "del data['Unnamed: 0']"
   ]
  },
  {
   "cell_type": "code",
   "execution_count": 38,
   "metadata": {
    "collapsed": false
   },
   "outputs": [],
   "source": [
    "#makes a new df, sentiment, that indexes based on sentiment data (1x/day, to 09/2015)\n",
    "sentiment=data.join(sent_clean, how = 'right', lsuffix='_x')\n",
    "\n",
    "\n",
    "#makes a new df, finance, that indexes based on financial data (2x/day, to 01/2009)\n",
    "finance=data.join(sent_clean, how = 'left', lsuffix='_x')\n"
   ]
  },
  {
   "cell_type": "code",
   "execution_count": 9,
   "metadata": {
    "collapsed": false
   },
   "outputs": [],
   "source": [
    "#writes dataframes to new file with corresponding label\n",
    "sentiment.to_csv(\"ANIK_sentiment.csv\")\n",
    "finance.to_csv(\"ANIK_financials.csv\")"
   ]
  },
  {
   "cell_type": "code",
   "execution_count": 28,
   "metadata": {
    "collapsed": false
   },
   "outputs": [
    {
     "data": {
      "text/html": [
       "<div>\n",
       "<table border=\"1\" class=\"dataframe\">\n",
       "  <thead>\n",
       "    <tr style=\"text-align: right;\">\n",
       "      <th></th>\n",
       "      <th>Price</th>\n",
       "      <th>7</th>\n",
       "      <th>50</th>\n",
       "      <th>200</th>\n",
       "      <th>750g</th>\n",
       "      <th>50200g</th>\n",
       "      <th>7200g</th>\n",
       "      <th>750d</th>\n",
       "      <th>50200d</th>\n",
       "      <th>7200d</th>\n",
       "      <th>total_scanned_messages</th>\n",
       "      <th>bull_bear_msg_ratio</th>\n",
       "      <th>bull_minus_bear</th>\n",
       "    </tr>\n",
       "  </thead>\n",
       "  <tbody>\n",
       "    <tr>\n",
       "      <th>count</th>\n",
       "      <td>292.000000</td>\n",
       "      <td>292.000000</td>\n",
       "      <td>292.000000</td>\n",
       "      <td>292.000000</td>\n",
       "      <td>292.000000</td>\n",
       "      <td>292.000000</td>\n",
       "      <td>292.000000</td>\n",
       "      <td>292.000000</td>\n",
       "      <td>292.000000</td>\n",
       "      <td>292.000000</td>\n",
       "      <td>420.000000</td>\n",
       "      <td>420.000000</td>\n",
       "      <td>420.000000</td>\n",
       "    </tr>\n",
       "    <tr>\n",
       "      <th>mean</th>\n",
       "      <td>70.271883</td>\n",
       "      <td>70.303873</td>\n",
       "      <td>70.410466</td>\n",
       "      <td>70.800520</td>\n",
       "      <td>32.166096</td>\n",
       "      <td>574.469178</td>\n",
       "      <td>110.414384</td>\n",
       "      <td>34.998288</td>\n",
       "      <td>135.917808</td>\n",
       "      <td>79.325342</td>\n",
       "      <td>11.130952</td>\n",
       "      <td>1.047492</td>\n",
       "      <td>0.510566</td>\n",
       "    </tr>\n",
       "    <tr>\n",
       "      <th>std</th>\n",
       "      <td>2.674697</td>\n",
       "      <td>2.578617</td>\n",
       "      <td>2.193163</td>\n",
       "      <td>1.598350</td>\n",
       "      <td>22.706872</td>\n",
       "      <td>475.583999</td>\n",
       "      <td>93.782419</td>\n",
       "      <td>24.441792</td>\n",
       "      <td>83.125821</td>\n",
       "      <td>54.632515</td>\n",
       "      <td>7.366602</td>\n",
       "      <td>1.698779</td>\n",
       "      <td>1.288268</td>\n",
       "    </tr>\n",
       "    <tr>\n",
       "      <th>min</th>\n",
       "      <td>62.750000</td>\n",
       "      <td>63.810001</td>\n",
       "      <td>66.176324</td>\n",
       "      <td>68.766323</td>\n",
       "      <td>0.000000</td>\n",
       "      <td>0.500000</td>\n",
       "      <td>0.000000</td>\n",
       "      <td>0.000000</td>\n",
       "      <td>0.000000</td>\n",
       "      <td>0.000000</td>\n",
       "      <td>1.000000</td>\n",
       "      <td>0.000000</td>\n",
       "      <td>-3.000000</td>\n",
       "    </tr>\n",
       "    <tr>\n",
       "      <th>25%</th>\n",
       "      <td>68.247500</td>\n",
       "      <td>68.108500</td>\n",
       "      <td>69.096389</td>\n",
       "      <td>69.111219</td>\n",
       "      <td>13.500000</td>\n",
       "      <td>73.250000</td>\n",
       "      <td>35.875000</td>\n",
       "      <td>13.875000</td>\n",
       "      <td>63.250000</td>\n",
       "      <td>33.375000</td>\n",
       "      <td>6.000000</td>\n",
       "      <td>0.000000</td>\n",
       "      <td>-0.198750</td>\n",
       "    </tr>\n",
       "    <tr>\n",
       "      <th>50%</th>\n",
       "      <td>70.575001</td>\n",
       "      <td>70.583501</td>\n",
       "      <td>70.585338</td>\n",
       "      <td>70.838281</td>\n",
       "      <td>28.750000</td>\n",
       "      <td>948.500000</td>\n",
       "      <td>76.000000</td>\n",
       "      <td>32.000000</td>\n",
       "      <td>135.000000</td>\n",
       "      <td>69.750000</td>\n",
       "      <td>9.000000</td>\n",
       "      <td>0.000000</td>\n",
       "      <td>0.130000</td>\n",
       "    </tr>\n",
       "    <tr>\n",
       "      <th>75%</th>\n",
       "      <td>72.125002</td>\n",
       "      <td>71.989750</td>\n",
       "      <td>71.764642</td>\n",
       "      <td>72.097053</td>\n",
       "      <td>46.625000</td>\n",
       "      <td>1020.250000</td>\n",
       "      <td>148.750000</td>\n",
       "      <td>53.000000</td>\n",
       "      <td>207.750000</td>\n",
       "      <td>121.250000</td>\n",
       "      <td>15.000000</td>\n",
       "      <td>1.500000</td>\n",
       "      <td>1.677500</td>\n",
       "    </tr>\n",
       "    <tr>\n",
       "      <th>max</th>\n",
       "      <td>75.739998</td>\n",
       "      <td>75.349999</td>\n",
       "      <td>74.523662</td>\n",
       "      <td>73.872101</td>\n",
       "      <td>92.000000</td>\n",
       "      <td>1093.000000</td>\n",
       "      <td>297.500000</td>\n",
       "      <td>90.000000</td>\n",
       "      <td>280.500000</td>\n",
       "      <td>194.000000</td>\n",
       "      <td>40.000000</td>\n",
       "      <td>11.000000</td>\n",
       "      <td>3.330000</td>\n",
       "    </tr>\n",
       "  </tbody>\n",
       "</table>\n",
       "</div>"
      ],
      "text/plain": [
       "            Price           7          50         200        750g  \\\n",
       "count  292.000000  292.000000  292.000000  292.000000  292.000000   \n",
       "mean    70.271883   70.303873   70.410466   70.800520   32.166096   \n",
       "std      2.674697    2.578617    2.193163    1.598350   22.706872   \n",
       "min     62.750000   63.810001   66.176324   68.766323    0.000000   \n",
       "25%     68.247500   68.108500   69.096389   69.111219   13.500000   \n",
       "50%     70.575001   70.583501   70.585338   70.838281   28.750000   \n",
       "75%     72.125002   71.989750   71.764642   72.097053   46.625000   \n",
       "max     75.739998   75.349999   74.523662   73.872101   92.000000   \n",
       "\n",
       "            50200g       7200g        750d      50200d       7200d  \\\n",
       "count   292.000000  292.000000  292.000000  292.000000  292.000000   \n",
       "mean    574.469178  110.414384   34.998288  135.917808   79.325342   \n",
       "std     475.583999   93.782419   24.441792   83.125821   54.632515   \n",
       "min       0.500000    0.000000    0.000000    0.000000    0.000000   \n",
       "25%      73.250000   35.875000   13.875000   63.250000   33.375000   \n",
       "50%     948.500000   76.000000   32.000000  135.000000   69.750000   \n",
       "75%    1020.250000  148.750000   53.000000  207.750000  121.250000   \n",
       "max    1093.000000  297.500000   90.000000  280.500000  194.000000   \n",
       "\n",
       "       total_scanned_messages  bull_bear_msg_ratio  bull_minus_bear  \n",
       "count              420.000000           420.000000       420.000000  \n",
       "mean                11.130952             1.047492         0.510566  \n",
       "std                  7.366602             1.698779         1.288268  \n",
       "min                  1.000000             0.000000        -3.000000  \n",
       "25%                  6.000000             0.000000        -0.198750  \n",
       "50%                  9.000000             0.000000         0.130000  \n",
       "75%                 15.000000             1.500000         1.677500  \n",
       "max                 40.000000            11.000000         3.330000  "
      ]
     },
     "execution_count": 28,
     "metadata": {},
     "output_type": "execute_result"
    }
   ],
   "source": [
    "sentiment.describe()"
   ]
  },
  {
   "cell_type": "code",
   "execution_count": 39,
   "metadata": {
    "collapsed": false
   },
   "outputs": [],
   "source": [
    "#loads technical data, adds complementary indices, and trims unnecessary data\n",
    "tech=pd.read_csv('raw_data/XLV_technical_data.csv')\n",
    "tech.index=pd.to_datetime(tech['Period'].str.replace('00:00:00', '09:30:00'))\n",
    "techj=tech[['Aroon Oscillator [25]','CMF [20]','MACD (12,26,9) - DIVERGENCE','MACD (12,26,9) - MACD','MACD (12,26,9) - SIGNAL','Williams %R [14]']]"
   ]
  },
  {
   "cell_type": "code",
   "execution_count": 40,
   "metadata": {
    "collapsed": false
   },
   "outputs": [],
   "source": [
    "#joins sentiment and technical data, saves to csv\n",
    "techsent=sentiment.join(techj, how = 'left', lsuffix='_x')\n",
    "techsent.index.name='date'\n",
    "techsent.to_csv(\"org_data/XLV_technicals.csv\")"
   ]
  }
 ],
 "metadata": {
  "anaconda-cloud": {},
  "kernelspec": {
   "display_name": "Python [Root]",
   "language": "python",
   "name": "Python [Root]"
  },
  "language_info": {
   "codemirror_mode": {
    "name": "ipython",
    "version": 3
   },
   "file_extension": ".py",
   "mimetype": "text/x-python",
   "name": "python",
   "nbconvert_exporter": "python",
   "pygments_lexer": "ipython3",
   "version": "3.5.2"
  }
 },
 "nbformat": 4,
 "nbformat_minor": 0
}
